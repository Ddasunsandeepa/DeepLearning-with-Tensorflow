{
  "nbformat": 4,
  "nbformat_minor": 0,
  "metadata": {
    "colab": {
      "provenance": [],
      "gpuType": "T4",
      "authorship_tag": "ABX9TyOZkcWCONNkCQ9GMxUUQKKl",
      "include_colab_link": true
    },
    "kernelspec": {
      "name": "python3",
      "display_name": "Python 3"
    },
    "language_info": {
      "name": "python"
    },
    "accelerator": "GPU"
  },
  "cells": [
    {
      "cell_type": "markdown",
      "metadata": {
        "id": "view-in-github",
        "colab_type": "text"
      },
      "source": [
        "<a href=\"https://colab.research.google.com/github/Ddasunsandeepa/DeepLearning-with-Tensorflow/blob/main/Comparison.ipynb\" target=\"_parent\"><img src=\"https://colab.research.google.com/assets/colab-badge.svg\" alt=\"Open In Colab\"/></a>"
      ]
    },
    {
      "cell_type": "code",
      "execution_count": null,
      "metadata": {
        "id": "qCPY1RZ5XwYO"
      },
      "outputs": [],
      "source": [
        "import numpy as np\n",
        "import tensorflow as tf\n",
        "import time"
      ]
    },
    {
      "cell_type": "code",
      "source": [
        "tf.test.gpu_device_name()"
      ],
      "metadata": {
        "colab": {
          "base_uri": "https://localhost:8080/",
          "height": 36
        },
        "id": "Vg1C6dQMZMfP",
        "outputId": "731730b4-a5db-4a48-c44c-15f39e28ba21"
      },
      "execution_count": null,
      "outputs": [
        {
          "output_type": "execute_result",
          "data": {
            "text/plain": [
              "'/device:GPU:0'"
            ],
            "application/vnd.google.colaboratory.intrinsic+json": {
              "type": "string"
            }
          },
          "metadata": {},
          "execution_count": 2
        }
      ]
    },
    {
      "cell_type": "code",
      "source": [
        "shape = 5000"
      ],
      "metadata": {
        "id": "N7muW_XvZV6L"
      },
      "execution_count": null,
      "outputs": []
    },
    {
      "cell_type": "code",
      "source": [
        "np_arr = np.random.uniform(size= [shape * shape])"
      ],
      "metadata": {
        "id": "kDK6bUuNaUl5"
      },
      "execution_count": null,
      "outputs": []
    },
    {
      "cell_type": "code",
      "source": [
        "print(np_arr.size)\n",
        "np_arr"
      ],
      "metadata": {
        "colab": {
          "base_uri": "https://localhost:8080/"
        },
        "id": "qzp_SCyyaena",
        "outputId": "75679a5a-f287-4863-d665-1f3327a9deab"
      },
      "execution_count": null,
      "outputs": [
        {
          "output_type": "stream",
          "name": "stdout",
          "text": [
            "25000000\n"
          ]
        },
        {
          "output_type": "execute_result",
          "data": {
            "text/plain": [
              "array([0.16847197, 0.50324214, 0.38021901, ..., 0.32595702, 0.87575288,\n",
              "       0.12077551])"
            ]
          },
          "metadata": {},
          "execution_count": 5
        }
      ]
    },
    {
      "cell_type": "code",
      "source": [
        "start = time.time()\n",
        "for i in range(10):\n",
        "  np.matmul(np_arr,np_arr)\n",
        "\n",
        "end = time.time()\n",
        "time_period = end - start\n",
        "print(f'{time_period} seconds')"
      ],
      "metadata": {
        "colab": {
          "base_uri": "https://localhost:8080/"
        },
        "id": "U0swEQo-ajBQ",
        "outputId": "449786b9-1152-489d-d8de-26a929ad76dc"
      },
      "execution_count": null,
      "outputs": [
        {
          "output_type": "stream",
          "name": "stdout",
          "text": [
            "0.15028786659240723 seconds\n"
          ]
        }
      ]
    },
    {
      "cell_type": "code",
      "source": [
        "tf_arr = tf.random.uniform([shape , shape])"
      ],
      "metadata": {
        "id": "ZYGT5JEjgsCZ"
      },
      "execution_count": null,
      "outputs": []
    },
    {
      "cell_type": "code",
      "source": [
        "start = time.time()\n",
        "for i in range(10):\n",
        "  tf.matmul(tf_arr,tf_arr)\n",
        "\n",
        "end = time.time()\n",
        "time_period = end - start\n",
        "print(f'{time_period} seconds')"
      ],
      "metadata": {
        "colab": {
          "base_uri": "https://localhost:8080/"
        },
        "id": "UzbdGmzHjUka",
        "outputId": "aa0ee063-f8df-4cb2-8d41-09873f61fde5"
      },
      "execution_count": null,
      "outputs": [
        {
          "output_type": "stream",
          "name": "stdout",
          "text": [
            "0.11615157127380371 seconds\n"
          ]
        }
      ]
    },
    {
      "cell_type": "code",
      "source": [
        "import numpy as np\n",
        "\n",
        "def sigmoid(x):\n",
        "  return 1.0/(1.0+np.exp(-x))\n",
        "\n",
        "inputs = [10,1,-13]\n",
        "\n",
        "for x in inputs:\n",
        "  print('{} --> {}' .format(x,sigmoid(x)))"
      ],
      "metadata": {
        "id": "ijvcUpGpjcHG",
        "colab": {
          "base_uri": "https://localhost:8080/"
        },
        "outputId": "ffb2a03d-5470-4783-9aa0-385df7b75bd3"
      },
      "execution_count": null,
      "outputs": [
        {
          "output_type": "stream",
          "name": "stdout",
          "text": [
            "10 --> 0.9999546021312976\n",
            "1 --> 0.7310585786300049\n",
            "-13 --> 2.2603242979035746e-06\n"
          ]
        }
      ]
    },
    {
      "cell_type": "code",
      "source": [],
      "metadata": {
        "id": "X0nE3XcDdMUM"
      },
      "execution_count": null,
      "outputs": []
    }
  ]
}