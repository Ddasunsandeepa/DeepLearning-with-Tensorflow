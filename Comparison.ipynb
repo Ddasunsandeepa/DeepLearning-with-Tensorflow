{
  "nbformat": 4,
  "nbformat_minor": 0,
  "metadata": {
    "colab": {
      "provenance": [],
      "authorship_tag": "ABX9TyPPuaYKjnOa08K8xFjaAhj4",
      "include_colab_link": true
    },
    "kernelspec": {
      "name": "python3",
      "display_name": "Python 3"
    },
    "language_info": {
      "name": "python"
    }
  },
  "cells": [
    {
      "cell_type": "markdown",
      "metadata": {
        "id": "view-in-github",
        "colab_type": "text"
      },
      "source": [
        "<a href=\"https://colab.research.google.com/github/Ddasunsandeepa/DeepLearning-with-Tensorflow/blob/dev/Comparison.ipynb\" target=\"_parent\"><img src=\"https://colab.research.google.com/assets/colab-badge.svg\" alt=\"Open In Colab\"/></a>"
      ]
    },
    {
      "cell_type": "code",
      "execution_count": 16,
      "metadata": {
        "id": "qCPY1RZ5XwYO"
      },
      "outputs": [],
      "source": [
        "import numpy as np\n",
        "import tensorflow as tf\n",
        "import time"
      ]
    },
    {
      "cell_type": "code",
      "source": [
        "tf.test.gpu_device_name()"
      ],
      "metadata": {
        "colab": {
          "base_uri": "https://localhost:8080/",
          "height": 36
        },
        "id": "Vg1C6dQMZMfP",
        "outputId": "4b4228c1-88ba-4bc6-d56c-527a60cc3cd4"
      },
      "execution_count": 17,
      "outputs": [
        {
          "output_type": "execute_result",
          "data": {
            "text/plain": [
              "''"
            ],
            "application/vnd.google.colaboratory.intrinsic+json": {
              "type": "string"
            }
          },
          "metadata": {},
          "execution_count": 17
        }
      ]
    },
    {
      "cell_type": "code",
      "source": [
        "shape = 5000"
      ],
      "metadata": {
        "id": "N7muW_XvZV6L"
      },
      "execution_count": 18,
      "outputs": []
    },
    {
      "cell_type": "code",
      "source": [
        "np_arr = np.random.uniform(size= [shape * shape])"
      ],
      "metadata": {
        "id": "kDK6bUuNaUl5"
      },
      "execution_count": 19,
      "outputs": []
    },
    {
      "cell_type": "code",
      "source": [
        "print(np_arr.size)\n",
        "np_arr"
      ],
      "metadata": {
        "colab": {
          "base_uri": "https://localhost:8080/"
        },
        "id": "qzp_SCyyaena",
        "outputId": "40f6f2d3-e59f-4e00-e743-25decb41bf59"
      },
      "execution_count": 20,
      "outputs": [
        {
          "output_type": "stream",
          "name": "stdout",
          "text": [
            "25000000\n"
          ]
        },
        {
          "output_type": "execute_result",
          "data": {
            "text/plain": [
              "array([0.79752712, 0.54429899, 0.74819672, ..., 0.15710472, 0.55396294,\n",
              "       0.74299046])"
            ]
          },
          "metadata": {},
          "execution_count": 20
        }
      ]
    },
    {
      "cell_type": "code",
      "source": [
        "start = time.time()\n",
        "for i in range(10):\n",
        "  np.matmul(np_arr,np_arr)\n",
        "\n",
        "end = time.time()\n",
        "time_period = end - start\n",
        "print(f'{time_period} seconds')"
      ],
      "metadata": {
        "colab": {
          "base_uri": "https://localhost:8080/"
        },
        "id": "U0swEQo-ajBQ",
        "outputId": "51310168-8c45-41d8-8654-5f1a2fef5094"
      },
      "execution_count": 21,
      "outputs": [
        {
          "output_type": "stream",
          "name": "stdout",
          "text": [
            "0.2682793140411377 seconds\n"
          ]
        }
      ]
    },
    {
      "cell_type": "code",
      "source": [
        "tf_arr = tf.random.uniform([shape , shape])"
      ],
      "metadata": {
        "id": "ZYGT5JEjgsCZ"
      },
      "execution_count": 22,
      "outputs": []
    },
    {
      "cell_type": "code",
      "source": [
        "start = time.time()\n",
        "for i in range(10):\n",
        "  tf.matmul(tf_arr,tf_arr)\n",
        "\n",
        "end = time.time()\n",
        "time_period = end - start\n",
        "print(f'{time_period} seconds')"
      ],
      "metadata": {
        "colab": {
          "base_uri": "https://localhost:8080/"
        },
        "id": "UzbdGmzHjUka",
        "outputId": "6625ac90-9078-493d-c03b-c17a2759bcb5"
      },
      "execution_count": 23,
      "outputs": [
        {
          "output_type": "stream",
          "name": "stdout",
          "text": [
            "40.938682556152344 seconds\n"
          ]
        }
      ]
    },
    {
      "cell_type": "code",
      "source": [],
      "metadata": {
        "id": "ijvcUpGpjcHG"
      },
      "execution_count": null,
      "outputs": []
    }
  ]
}